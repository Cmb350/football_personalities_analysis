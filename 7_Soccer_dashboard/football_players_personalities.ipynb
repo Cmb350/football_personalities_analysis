{
 "cells": [
  {
   "cell_type": "code",
   "execution_count": 55,
   "id": "5c747433-b503-468f-8670-6f460764f303",
   "metadata": {},
   "outputs": [],
   "source": [
    "import pandas as pd\n",
    "from sklearn.preprocessing import StandardScaler\n",
    "from scipy.cluster.hierarchy import dendrogram, linkage\n",
    "from sklearn.cluster import KMeans\n",
    "import matplotlib.pyplot as plt\n",
    "import seaborn as sns"
   ]
  },
  {
   "cell_type": "code",
   "execution_count": 21,
   "id": "f7504f03-eb00-4c88-8486-5bafb675797a",
   "metadata": {},
   "outputs": [],
   "source": [
    "df = pd.read_excel('C:/Users/kmilo/Documents/Data_analyst_projects/7_Soccer_dashboard/Data_base_soccer_teams.xlsx')"
   ]
  },
  {
   "cell_type": "code",
   "execution_count": 23,
   "id": "1fa67c81-4c0c-4a2c-935e-2f34cdfe3191",
   "metadata": {},
   "outputs": [
    {
     "name": "stdout",
     "output_type": "stream",
     "text": [
      "                name          position             team  year            role  \\\n",
      "0             Marcos        Goalkeeper           Brazil  2002  Defensive Wall   \n",
      "1               Cafu          Fullback           Brazil  2002          Engine   \n",
      "2              Lucio       Centre back           Brazil  2002  Defensive Wall   \n",
      "3       Roque Junior       Centre back           Brazil  2002  Defensive Wall   \n",
      "4           Edmilsom       Centre back           Brazil  2002  Defensive Wall   \n",
      "..               ...               ...              ...   ...             ...   \n",
      "116   Bernardo Silva    Winger Forward  Manchester City  2023           Brain   \n",
      "117  Kevin De Bruyne  Central Midfield  Manchester City  2023           Brain   \n",
      "118         Gundogan  Central Midfield  Manchester City  2023           Brain   \n",
      "119    Jack Grealish    Winger Forward  Manchester City  2023          Engine   \n",
      "120          Haaland           Striker  Manchester City  2023        Finisher   \n",
      "\n",
      "      openness conscientiousness extraversion agreeableness neuroticism  \n",
      "0       medium              high          low          high         low  \n",
      "1       medium              high         high          high         low  \n",
      "2          low              high       medium        medium         low  \n",
      "3          low            medium          low        medium      medium  \n",
      "4       medium              high          low          high         low  \n",
      "..         ...               ...          ...           ...         ...  \n",
      "116  very high              high         high          high         low  \n",
      "117  very high              high         high          high         low  \n",
      "118       high         very high         high          high         low  \n",
      "119  very high            medium         high        medium      medium  \n",
      "120     medium         very high          low        medium         low  \n",
      "\n",
      "[121 rows x 10 columns]\n"
     ]
    }
   ],
   "source": [
    "print(df)"
   ]
  },
  {
   "cell_type": "code",
   "execution_count": 59,
   "id": "fb1045fa-c4e2-4e76-ba3d-9e02325234e6",
   "metadata": {},
   "outputs": [
    {
     "name": "stdout",
     "output_type": "stream",
     "text": [
      "position            openness \n",
      "Central Midfield    high          5\n",
      "                    medium        5\n",
      "                    very high    11\n",
      "Centre back         low          12\n",
      "                    medium       10\n",
      "                    very high     1\n",
      "Defensive Midfield  high          3\n",
      "                    low           4\n",
      "                    medium        6\n",
      "                    very high     1\n",
      "Fullback            high          8\n",
      "                    low           2\n",
      "                    medium        9\n",
      "                    very high     3\n",
      "Goalkeeper          high          2\n",
      "                    low           3\n",
      "                    medium        6\n",
      "Striker             high          2\n",
      "                    low           2\n",
      "                    medium       10\n",
      "                    very high     2\n",
      "Winger Forward      high          7\n",
      "                    very high     7\n",
      "Name: name, dtype: int64\n"
     ]
    }
   ],
   "source": [
    "position_openness = df.groupby(['position','openness'])['name'].count()\n",
    "print(position_openness)"
   ]
  },
  {
   "cell_type": "code",
   "execution_count": 61,
   "id": "b4773265-b659-4e52-acb1-a86cb63fadf9",
   "metadata": {},
   "outputs": [
    {
     "name": "stdout",
     "output_type": "stream",
     "text": [
      "position            conscientiousness\n",
      "Central Midfield    high                 10\n",
      "                    medium                5\n",
      "                    very high             6\n",
      "Centre back         high                 13\n",
      "                    medium                3\n",
      "                    very high             7\n",
      "Defensive Midfield  high                  7\n",
      "                    medium                1\n",
      "                    very high             6\n",
      "Fullback            high                 13\n",
      "                    medium                7\n",
      "                    very high             2\n",
      "Goalkeeper          high                  3\n",
      "                    very high             8\n",
      "Striker             high                  5\n",
      "                    medium                6\n",
      "                    very high             5\n",
      "Winger Forward      high                  1\n",
      "                    low                   1\n",
      "                    medium                8\n",
      "                    very high             4\n",
      "Name: name, dtype: int64\n"
     ]
    }
   ],
   "source": [
    "position_conscientiousness = df.groupby(['position','conscientiousness'])['name'].count()\n",
    "\n",
    "print(position_conscientiousness)"
   ]
  },
  {
   "cell_type": "code",
   "execution_count": 63,
   "id": "62cac6d0-b801-4ac8-8215-5191af954bf0",
   "metadata": {},
   "outputs": [
    {
     "name": "stdout",
     "output_type": "stream",
     "text": [
      "position            extraversion\n",
      "Central Midfield    high             3\n",
      "                    low              2\n",
      "                    medium          14\n",
      "                    very high        2\n",
      "Centre back         high             1\n",
      "                    low              9\n",
      "                    medium          12\n",
      "                    very high        1\n",
      "Defensive Midfield  high             2\n",
      "                    low              4\n",
      "                    medium           7\n",
      "                    very high        1\n",
      "Fullback            high             9\n",
      "                    low              1\n",
      "                    medium           9\n",
      "                    very high        3\n",
      "Goalkeeper          low              3\n",
      "                    medium           7\n",
      "                    very high        1\n",
      "Striker             high             5\n",
      "                    low              1\n",
      "                    medium           6\n",
      "                    very high        4\n",
      "Winger Forward      high             3\n",
      "                    medium           6\n",
      "                    very high        5\n",
      "Name: name, dtype: int64\n"
     ]
    }
   ],
   "source": [
    "position_extraversion = df.groupby(['position','extraversion'])['name'].count()\n",
    "\n",
    "print(position_extraversion)"
   ]
  },
  {
   "cell_type": "code",
   "execution_count": 65,
   "id": "b9ab69f5-155b-4daa-bc57-144b5b44bcf8",
   "metadata": {},
   "outputs": [
    {
     "name": "stdout",
     "output_type": "stream",
     "text": [
      "position            agreeableness\n",
      "Central Midfield    high             11\n",
      "                    low               1\n",
      "                    medium            7\n",
      "                    very high         2\n",
      "Centre back         high              7\n",
      "                    low               3\n",
      "                    medium           12\n",
      "                    very high         1\n",
      "Defensive Midfield  high              7\n",
      "                    medium            6\n",
      "                    very high         1\n",
      "Fullback            high             11\n",
      "                    medium           10\n",
      "                    very high         1\n",
      "Goalkeeper          high              7\n",
      "                    medium            4\n",
      "Striker             high              3\n",
      "                    medium           11\n",
      "                    very high         2\n",
      "Winger Forward      high              1\n",
      "                    medium           11\n",
      "                    very high         2\n",
      "Name: name, dtype: int64\n"
     ]
    }
   ],
   "source": [
    "position_agreeableness = df.groupby(['position','agreeableness'])['name'].count()\n",
    "\n",
    "print(position_agreeableness)"
   ]
  },
  {
   "cell_type": "code",
   "execution_count": 69,
   "id": "8a70da5b-b132-46a6-aa32-5bf7be161f31",
   "metadata": {},
   "outputs": [
    {
     "name": "stdout",
     "output_type": "stream",
     "text": [
      "position            neuroticism\n",
      "Central Midfield    low            15\n",
      "                    medium          6\n",
      "Centre back         high            2\n",
      "                    low            13\n",
      "                    medium          7\n",
      "                    very low        1\n",
      "Defensive Midfield  low            11\n",
      "                    medium          3\n",
      "Fullback            low            19\n",
      "                    medium          3\n",
      "Goalkeeper          low            10\n",
      "                    medium          1\n",
      "Striker             low            14\n",
      "                    medium          2\n",
      "Winger Forward      low             7\n",
      "                    medium          7\n",
      "Name: name, dtype: int64\n"
     ]
    }
   ],
   "source": [
    "position_neuroticism = df.groupby(['position','neuroticism'])['name'].count()\n",
    "\n",
    "print(position_neuroticism)"
   ]
  },
  {
   "cell_type": "code",
   "execution_count": null,
   "id": "8079e61b-d154-46dc-b53f-bb2c232c9470",
   "metadata": {},
   "outputs": [],
   "source": []
  }
 ],
 "metadata": {
  "kernelspec": {
   "display_name": "Python 3 (ipykernel)",
   "language": "python",
   "name": "python3"
  },
  "language_info": {
   "codemirror_mode": {
    "name": "ipython",
    "version": 3
   },
   "file_extension": ".py",
   "mimetype": "text/x-python",
   "name": "python",
   "nbconvert_exporter": "python",
   "pygments_lexer": "ipython3",
   "version": "3.11.7"
  }
 },
 "nbformat": 4,
 "nbformat_minor": 5
}
